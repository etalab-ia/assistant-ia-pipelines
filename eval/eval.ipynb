{
 "cells": [
  {
   "cell_type": "markdown",
   "metadata": {},
   "source": [
    "## Evaluation of pipelines via EvalAp"
   ]
  },
  {
   "cell_type": "code",
   "execution_count": 11,
   "metadata": {},
   "outputs": [],
   "source": [
    "import requests\n",
    "from dotenv import load_dotenv\n",
    "import os\n",
    "import time\n",
    "\n",
    "# Load environment variables from .env file\n",
    "load_dotenv()\n",
    "\n",
    "\n",
    "OPENWEBUI_TOKEN = os.getenv('OPENWEBUI_TOKEN')\n",
    "\n",
    "def chat_with_model(model, prompt):\n",
    "    url = 'http://localhost:8080/api/chat/completions'\n",
    "    headers = {\n",
    "        'Authorization': f'Bearer {OPENWEBUI_TOKEN}',\n",
    "        'Content-Type': 'application/json'\n",
    "    }\n",
    "    data = {\n",
    "      \"model\": model,\n",
    "      \"messages\": [\n",
    "        {\n",
    "          \"role\": \"user\",\n",
    "          \"content\": prompt\n",
    "        }\n",
    "      ]\n",
    "    }\n",
    "    response = requests.post(url, headers=headers, json=data, timeout=10000)\n",
    "    #response = requests.get(url, headers=headers)\n",
    "\n",
    "    return response\n",
    "\n",
    "\n",
    "\n",
    "def chat_with_model_streaming(model, prompt):\n",
    "    url = 'http://localhost:8080/api/chat/completions'\n",
    "    headers = {\n",
    "        'Authorization': f'Bearer {OPENWEBUI_TOKEN}',\n",
    "        'Content-Type': 'application/json'\n",
    "    }\n",
    "    data = {\n",
    "      \"model\": model,\n",
    "      \"messages\": [\n",
    "        {\n",
    "          \"role\": \"user\",\n",
    "          \"content\": prompt\n",
    "        }\n",
    "      ],\n",
    "      \"stream\": True\n",
    "    }\n",
    "\n",
    "    start_time = time.time()\n",
    "    response = requests.post(url, headers=headers, json=data, stream=True, timeout=10000)\n",
    "    #response = requests.get(url, headers=headers)\n",
    "\n",
    "    full_content = \"\"\n",
    "    for line in response.iter_lines():\n",
    "        if line:\n",
    "            decoded_line = line.decode('utf-8')\n",
    "            if decoded_line.startswith('data: '):\n",
    "                data_content = decoded_line[6:]  # Remove 'data: ' prefix\n",
    "                try:\n",
    "                    import json\n",
    "                    chunk_data = json.loads(data_content)\n",
    "                    if chunk_data.get(\"event\", {}).get(\"data\", {}).get(\"content\"):\n",
    "                        full_content += chunk_data[\"event\"][\"data\"][\"content\"]\n",
    "                except:\n",
    "                    pass\n",
    "    end_time = time.time()\n",
    "    print(f\"Time taken: {end_time - start_time} seconds\")\n",
    "    return full_content, end_time - start_time\n"
   ]
  },
  {
   "cell_type": "code",
   "execution_count": null,
   "metadata": {},
   "outputs": [],
   "source": [
    "model = \"assistant-service-public--recherche-approfondie\" #\"assistant-service-public\"\n",
    "prompt = \"Un contrat de CDI doit-il être écrit ?\"\n",
    "\n",
    "answer, time_spent = chat_with_model_streaming(model, prompt)\n",
    "print(answer)\n",
    "print(time_spent)"
   ]
  },
  {
   "cell_type": "code",
   "execution_count": null,
   "metadata": {},
   "outputs": [],
   "source": [
    "import pandas as pd\n",
    "\n",
    "EG1_API_URL = os.getenv('EG1_API_URL')\n",
    "headers = {\n",
    "    'Authorization': f'Bearer {os.getenv('EG1_API_KEY')}',\n",
    "    'Content-Type': 'application/json'\n",
    "}\n",
    "\n",
    "response = requests.get(f'{EG1_API_URL}/dataset/1?with_df=true', headers=headers)\n",
    "df = pd.read_json(response.json()['df'])\n",
    "df.head()"
   ]
  },
  {
   "cell_type": "code",
   "execution_count": null,
   "metadata": {},
   "outputs": [],
   "source": [
    "answers = []\n",
    "times = []\n",
    "for index, row in df.iterrows():\n",
    "    print(f\"======================= {index} ========================\")\n",
    "    prompt = row['query']\n",
    "    answer, time_spent = chat_with_model_streaming(model, prompt)\n",
    "    answers.append(answer)\n",
    "    times.append(time_spent)\n",
    "    print(f\"prompt: {prompt}\")\n",
    "    print(f\"answer: {answer}\")\n",
    "    #print(f\"time_spent: {time_spent}\")\n",
    "    print(f\"===================== end {index} ======================\")\n",
    "df['output'] = answers\n",
    "df['generation_time'] = times\n",
    "df.head()\n"
   ]
  },
  {
   "cell_type": "code",
   "execution_count": null,
   "metadata": {},
   "outputs": [],
   "source": [
    "## Push exp \n",
    "\n",
    "headers = {\"Authorization\": f\"Bearer {os.getenv('EG1_API_KEY')}\", \"Accept-Encoding\": \"gzip\"}\n",
    "\n",
    "metrics = [\"judge_precision\", \"judge_notator\", \"judge_exactness\", \"output_length\", \"answer_relevancy\"]\n",
    "\n",
    "# Lauching the experiments\n",
    "experiment_ids = []\n",
    "experiment = {\n",
    "            \"experiment_set_id\" : \"54\",\n",
    "            \"name\" : model + \"- Pipeline V1\",\n",
    "            \"readme\" : model + \"- Pipeline V1\",\n",
    "            \"model\":{\"aliased_name\" : model + \"- Pipeline V1\", \"output\":df[\"output\"].values.tolist(), \"execution_time\":df[\"generation_time\"].astype(int).values.tolist()},\n",
    "            \"dataset\" : \"MFS_questions_v01\",\n",
    "            \"metrics\": metrics,\n",
    "            \"judge_model\":\"gpt-4o\",\n",
    "            }\n",
    "\n",
    "response = requests.post(f'{EG1_API_URL}/experiment', json=experiment, headers=headers)\n",
    "resp = response.json()\n",
    "\n",
    "if \"id\" in resp:\n",
    "    experiment_ids.append(resp[\"id\"])\n",
    "    print(f'Created experiment: {resp[\"name\"]} ({resp[\"id\"]}), status: {resp[\"experiment_status\"]}')\n",
    "else:\n",
    "    print(resp)"
   ]
  },
  {
   "cell_type": "code",
   "execution_count": null,
   "metadata": {},
   "outputs": [],
   "source": [
    "df.to_csv(f\"results/{model}.csv\", index=False)"
   ]
  }
 ],
 "metadata": {
  "kernelspec": {
   "display_name": "lab",
   "language": "python",
   "name": "python3"
  },
  "language_info": {
   "codemirror_mode": {
    "name": "ipython",
    "version": 3
   },
   "file_extension": ".py",
   "mimetype": "text/x-python",
   "name": "python",
   "nbconvert_exporter": "python",
   "pygments_lexer": "ipython3",
   "version": "3.12.5"
  }
 },
 "nbformat": 4,
 "nbformat_minor": 2
}
